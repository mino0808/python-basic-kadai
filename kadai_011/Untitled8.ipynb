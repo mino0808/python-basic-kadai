{
  "nbformat": 4,
  "nbformat_minor": 0,
  "metadata": {
    "colab": {
      "provenance": []
    },
    "kernelspec": {
      "name": "python3",
      "display_name": "Python 3"
    },
    "language_info": {
      "name": "python"
    }
  },
  "cells": [
    {
      "cell_type": "code",
      "execution_count": 4,
      "metadata": {
        "id": "fcnDER9M3Bdl",
        "colab": {
          "base_uri": "https://localhost:8080/"
        },
        "outputId": "799310d2-d72d-4598-da39-1b725e12f217"
      },
      "outputs": [
        {
          "output_type": "stream",
          "name": "stdout",
          "text": [
            "水\n",
            "金\n",
            "地\n",
            "火\n",
            "木\n",
            "土\n",
            "天\n",
            "海\n",
            "冥\n",
            "水\n",
            "金\n",
            "地\n",
            "火\n",
            "木\n",
            "土\n",
            "天\n",
            "海\n",
            "冥\n"
          ]
        }
      ],
      "source": [
        "array = [\"水\",\"金\",\"地\",\"火\",\"木\",\"土\",\"天\",\"海\",\"冥\"]\n",
        "\n",
        "\n",
        "for i in array:\n",
        "  print(i)\n",
        "\n",
        "  if i == \"冥\":\n",
        "    break\n",
        "\n",
        "index = 0\n",
        "while index < len(array):\n",
        "  print(array[index])\n",
        "  index = index + 1\n",
        ""
      ]
    }
  ]
}