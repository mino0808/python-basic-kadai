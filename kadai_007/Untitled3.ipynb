{
  "nbformat": 4,
  "nbformat_minor": 0,
  "metadata": {
    "colab": {
      "provenance": []
    },
    "kernelspec": {
      "name": "python3",
      "display_name": "Python 3"
    },
    "language_info": {
      "name": "python"
    }
  },
  "cells": [
    {
      "cell_type": "code",
      "execution_count": 1,
      "metadata": {
        "colab": {
          "base_uri": "https://localhost:8080/"
        },
        "id": "zFNXVCYVUu7O",
        "outputId": "f171137c-76f0-40d3-b933-cbf4b5abc560"
      },
      "outputs": [
        {
          "output_type": "stream",
          "name": "stdout",
          "text": [
            "水曜日は晴れです\n"
          ]
        }
      ],
      "source": [
        "array=[\"月曜日は晴れです\", \"火曜日は雨です\", \"水曜日は晴れです\", \"木曜日は晴れです\", \"金曜日は曇りです\", \"土曜日は曇りのち雨です\", \"日曜日は雷雨です\",]\n",
        "print(array[2])"
      ]
    },
    {
      "cell_type": "code",
      "source": [
        "dictionary={\"mon\":\"晴れ\", \"tue\":\"雨\", \"wed\":\"晴れ\", \"thu\":\"晴れ\", \"fri\":\"曇り\", \"sat\":\"曇りのち雨\", \"sun\":\"雷雨\", }\n",
        "print(dictionary[\"wed\"])"
      ],
      "metadata": {
        "colab": {
          "base_uri": "https://localhost:8080/"
        },
        "id": "ldbT1x1bVxIm",
        "outputId": "72dcec7f-fbd7-40be-84b7-a642b1dfc9f8"
      },
      "execution_count": 4,
      "outputs": [
        {
          "output_type": "stream",
          "name": "stdout",
          "text": [
            "晴れ\n"
          ]
        }
      ]
    }
  ]
}