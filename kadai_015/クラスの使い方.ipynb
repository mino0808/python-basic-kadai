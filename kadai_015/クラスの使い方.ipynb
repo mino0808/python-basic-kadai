{
  "nbformat": 4,
  "nbformat_minor": 0,
  "metadata": {
    "colab": {
      "provenance": []
    },
    "kernelspec": {
      "name": "python3",
      "display_name": "Python 3"
    },
    "language_info": {
      "name": "python"
    }
  },
  "cells": [
    {
      "cell_type": "code",
      "execution_count": 2,
      "metadata": {
        "colab": {
          "base_uri": "https://localhost:8080/"
        },
        "id": "X1kI2Kt1qgWu",
        "outputId": "63b3c682-1643-4acf-f6aa-b2d675ca04f2"
      },
      "outputs": [
        {
          "output_type": "stream",
          "name": "stdout",
          "text": [
            "uda\n",
            "22\n"
          ]
        }
      ],
      "source": [
        "class Human:\n",
        "    def __init__(self, name, age):\n",
        "        self.name = name\n",
        "        self.age = age\n",
        "\n",
        "    def printinfo_name(self, name, age):\n",
        "        print(self.name)\n",
        "        print(self.age)\n",
        "\n",
        "printinfo = Human(\"uda\", 22)\n",
        "print(printinfo.name)\n",
        "print(printinfo.age)\n"
      ]
    }
  ]
}