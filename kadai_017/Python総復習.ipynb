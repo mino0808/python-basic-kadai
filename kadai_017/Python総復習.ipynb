{
  "nbformat": 4,
  "nbformat_minor": 0,
  "metadata": {
    "colab": {
      "provenance": []
    },
    "kernelspec": {
      "name": "python3",
      "display_name": "Python 3"
    },
    "language_info": {
      "name": "python"
    }
  },
  "cells": [
    {
      "cell_type": "code",
      "execution_count": 4,
      "metadata": {
        "colab": {
          "base_uri": "https://localhost:8080/"
        },
        "id": "FD6pkYrEvM7q",
        "outputId": "a55863f3-385a-4c30-c9e2-d6acdaae678e"
      },
      "outputs": [
        {
          "output_type": "stream",
          "name": "stdout",
          "text": [
            "udaは大人です。\n"
          ]
        }
      ],
      "source": [
        "class Human:\n",
        "    def __init__(self, name, age):\n",
        "        self.name = name\n",
        "        self.age = age\n",
        "\n",
        "    def check_adult(self):\n",
        "      if self.age >= 20:\n",
        "        print(f\"{self.name}は大人です。\")\n",
        "\n",
        "      else:\n",
        "        print(f\"{self.name}は大人ではありません。\")\n",
        "\n",
        "\n",
        "hito = Human(\"uda\", 22)\n",
        "hito.check_adult()\n",
        "\n",
        "\n",
        "\n"
      ]
    }
  ]
}