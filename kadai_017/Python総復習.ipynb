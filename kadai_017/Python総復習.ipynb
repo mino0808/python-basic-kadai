{
  "nbformat": 4,
  "nbformat_minor": 0,
  "metadata": {
    "colab": {
      "provenance": []
    },
    "kernelspec": {
      "name": "python3",
      "display_name": "Python 3"
    },
    "language_info": {
      "name": "python"
    }
  },
  "cells": [
    {
      "cell_type": "code",
      "source": [
        "class Human:\n",
        "    def __init__(self, name, age):\n",
        "        self.name = name\n",
        "        self.age = age\n",
        "\n",
        "    def check_adult(self):\n",
        "        if self.age >= 20:\n",
        "            print(\"大人です。\")\n",
        "        else:\n",
        "            print( \"大人ではありません。\")\n",
        "\n",
        "\n",
        "hitos = [\n",
        "    Human(\"uda\", 25),\n",
        "    Human(\"tanaka\", 18),\n",
        "    Human(\"satou\", 22),\n",
        "]\n",
        "\n",
        "for human in hitos:\n",
        "    human.check_adult()"
      ],
      "metadata": {
        "colab": {
          "base_uri": "https://localhost:8080/"
        },
        "id": "OdZC5X8wI5nt",
        "outputId": "aae7a39a-ccca-4b60-93e6-2f0c0a5ec44e"
      },
      "execution_count": 2,
      "outputs": [
        {
          "output_type": "stream",
          "name": "stdout",
          "text": [
            "大人です。\n",
            "大人ではありません。\n",
            "大人です。\n"
          ]
        }
      ]
    }
  ]
}