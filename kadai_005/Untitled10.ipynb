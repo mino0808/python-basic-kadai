{
  "nbformat": 4,
  "nbformat_minor": 0,
  "metadata": {
    "colab": {
      "provenance": []
    },
    "kernelspec": {
      "name": "python3",
      "display_name": "Python 3"
    },
    "language_info": {
      "name": "python"
    }
  },
  "cells": [
    {
      "cell_type": "code",
      "execution_count": 7,
      "metadata": {
        "colab": {
          "base_uri": "https://localhost:8080/"
        },
        "id": "SNGL1LJF5DnX",
        "outputId": "fe953de1-bd3c-4fcc-94b2-3f7f8fa96a69"
      },
      "outputs": [
        {
          "output_type": "stream",
          "name": "stdout",
          "text": [
            "75.0㎠\n"
          ]
        }
      ],
      "source": [
        "nagasa1 = 10\n",
        "nagasa2 = 20\n",
        "nagasa3 = 5\n",
        "\n",
        "nagasa4 = ((nagasa1 + nagasa2) * nagasa3 / 2)\n",
        "\n",
        "print(str(nagasa4) + \"㎠\")\n"
      ]
    }
  ]
}