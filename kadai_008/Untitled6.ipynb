{
  "nbformat": 4,
  "nbformat_minor": 0,
  "metadata": {
    "colab": {
      "provenance": []
    },
    "kernelspec": {
      "name": "python3",
      "display_name": "Python 3"
    },
    "language_info": {
      "name": "python"
    }
  },
  "cells": [
    {
      "cell_type": "code",
      "execution_count": 16,
      "metadata": {
        "colab": {
          "base_uri": "https://localhost:8080/"
        },
        "id": "n5ExC8IdiGfE",
        "outputId": "14d0e0ad-dc06-4c13-93d7-6757c0f5427d"
      },
      "outputs": [
        {
          "output_type": "stream",
          "name": "stdout",
          "text": [
            "75\n",
            "FizzBuzz\n"
          ]
        }
      ],
      "source": [
        "import random\n",
        "\n",
        "num = random.randint(0, 100)\n",
        "\n",
        "print(num)\n",
        "\n",
        "if num % 3 == 0 and num % 5 == 0:\n",
        "    print(\"FizzBuzz\")\n",
        "elif num % 5 == 0:\n",
        "    print(\"Buzz\")\n",
        "elif num % 3 == 0:\n",
        "    print(\"Fizz\")\n",
        "else:\n",
        "    print(\"var\")"
      ]
    }
  ]
}