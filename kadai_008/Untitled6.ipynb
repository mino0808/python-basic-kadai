{
  "nbformat": 4,
  "nbformat_minor": 0,
  "metadata": {
    "colab": {
      "provenance": []
    },
    "kernelspec": {
      "name": "python3",
      "display_name": "Python 3"
    },
    "language_info": {
      "name": "python"
    }
  },
  "cells": [
    {
      "cell_type": "code",
      "execution_count": 27,
      "metadata": {
        "colab": {
          "base_uri": "https://localhost:8080/"
        },
        "id": "n5ExC8IdiGfE",
        "outputId": "0e25844d-a0f4-4089-eac3-f119ad1bb883"
      },
      "outputs": [
        {
          "output_type": "stream",
          "name": "stdout",
          "text": [
            "100\n",
            "Buzz\n"
          ]
        }
      ],
      "source": [
        "import random\n",
        "\n",
        "num = random.randint(0, 100)\n",
        "\n",
        "print(num)\n",
        "\n",
        "if num % 3 == 0:\n",
        "    print(\"Fizz\")\n",
        "elif num % 5 == 0:\n",
        "    print(\"Buzz\")\n",
        "elif num % 3 == 0 and num % 5 == 0:\n",
        "    print(\"FizzBuzz\")\n",
        "else:\n",
        "    print(\"var\")"
      ]
    }
  ]
}