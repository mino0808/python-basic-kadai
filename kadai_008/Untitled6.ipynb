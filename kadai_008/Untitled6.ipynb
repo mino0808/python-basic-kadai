{
  "nbformat": 4,
  "nbformat_minor": 0,
  "metadata": {
    "colab": {
      "provenance": []
    },
    "kernelspec": {
      "name": "python3",
      "display_name": "Python 3"
    },
    "language_info": {
      "name": "python"
    }
  },
  "cells": [
    {
      "cell_type": "code",
      "execution_count": 3,
      "metadata": {
        "colab": {
          "base_uri": "https://localhost:8080/"
        },
        "id": "n5ExC8IdiGfE",
        "outputId": "ab0388bc-eb41-424f-e3c1-428c3885b3c2"
      },
      "outputs": [
        {
          "output_type": "stream",
          "name": "stdout",
          "text": [
            "64\n",
            "var\n"
          ]
        }
      ],
      "source": [
        "import random\n",
        "\n",
        "num = random.randint(0, 100)\n",
        "\n",
        "var = num\n",
        "\n",
        "print(var)\n",
        "\n",
        "if var % 3 == 0 and var % 5 == 0:\n",
        "    print(\"FizzBuzz\")\n",
        "elif var % 5 == 0:\n",
        "    print(\"Buzz\")\n",
        "elif var % 3 == 0:\n",
        "    print(\"Fizz\")\n",
        "else:\n",
        "    print(\"var\")"
      ]
    }
  ]
}