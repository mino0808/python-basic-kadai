{
  "nbformat": 4,
  "nbformat_minor": 0,
  "metadata": {
    "colab": {
      "provenance": []
    },
    "kernelspec": {
      "name": "python3",
      "display_name": "Python 3"
    },
    "language_info": {
      "name": "python"
    }
  },
  "cells": [
    {
      "cell_type": "code",
      "execution_count": null,
      "metadata": {
        "colab": {
          "base_uri": "https://localhost:8080/"
        },
        "id": "SODmywiM0N8y",
        "outputId": "9cddf436-fd22-4432-f119-7c505cc18372"
      },
      "outputs": [
        {
          "output_type": "stream",
          "name": "stdout",
          "text": [
            "500\n"
          ]
        }
      ],
      "source": [
        "def a(x):\n",
        "    y = x * 5\n",
        "    return y\n",
        "print(a(100))"
      ]
    },
    {
      "cell_type": "code",
      "source": [
        "def product(ap,cs):\n",
        "    total = ap * cs\n",
        "    return total\n",
        "print(product(100,1.1))"
      ],
      "metadata": {
        "colab": {
          "base_uri": "https://localhost:8080/"
        },
        "id": "nvK9TySHm7G5",
        "outputId": "9a3b42f9-bece-42c0-c0d9-0cbf306bfef3"
      },
      "execution_count": 1,
      "outputs": [
        {
          "output_type": "stream",
          "name": "stdout",
          "text": [
            "110.00000000000001\n"
          ]
        }
      ]
    }
  ]
}